{
 "cells": [
  {
   "cell_type": "code",
   "execution_count": 1,
   "id": "2e25cf66",
   "metadata": {},
   "outputs": [],
   "source": [
    "import pickle\n",
    "import os\n",
    "import uuid\n",
    "from pathlib import Path\n",
    "\n",
    "import pandas as pd\n",
    "import mlflow\n",
    "\n",
    "from sklearn.feature_extraction import DictVectorizer\n",
    "from sklearn.ensemble import RandomForestRegressor\n",
    "from sklearn.metrics import mean_squared_error\n",
    "from sklearn.pipeline import make_pipeline"
   ]
  },
  {
   "cell_type": "code",
   "execution_count": 7,
   "id": "6a68cb3f",
   "metadata": {},
   "outputs": [],
   "source": [
    "os.environ[\"AWS_PROFILE\"] = \"default\"\n",
    "\n",
    "year = 2021\n",
    "month = 3\n",
    "taxi_type = 'green'\n",
    "input_file = f'https://d37ci6vzurychx.cloudfront.net/trip-data/{taxi_type}_tripdata_{year:04d}-{month:02d}.parquet'\n",
    "output_file = f'output/{taxi_type}/{year:04d}-{month:02d}.parquet'\n",
    "\n",
    "RUN_ID = 'a4b217a84e3a44ad870271b75331eb6c'"
   ]
  },
  {
   "cell_type": "code",
   "execution_count": 3,
   "id": "506bec39",
   "metadata": {},
   "outputs": [],
   "source": [
    "def download_pipeline(run_id: str):\n",
    "    path = mlflow.artifacts.download_artifacts(\n",
    "        artifact_uri=f\"s3://mlopszoomcamp-alex/1/{run_id}/artifacts/model/model.pkl\")\n",
    "\n",
    "    with open(path, 'rb') as f_out:\n",
    "        pipeline = pickle.load(f_out)\n",
    "    return pipeline\n"
   ]
  },
  {
   "cell_type": "code",
   "execution_count": 4,
   "id": "b9666e19",
   "metadata": {},
   "outputs": [],
   "source": [
    "def read_dataframe(filename: str):\n",
    "    df = pd.read_parquet(filename)\n",
    "\n",
    "    df['duration'] = df.lpep_dropoff_datetime - df.lpep_pickup_datetime\n",
    "    df.duration = df.duration.dt.total_seconds() / 60\n",
    "    df = df[(df.duration >= 1) & (df.duration <= 60)]\n",
    "\n",
    "    df['ride_id'] = [str(uuid.uuid4()) for i in range(len(df))]\n",
    "\n",
    "    return df\n",
    "\n",
    "\n",
    "def prepare_dictionaries(df: pd.DataFrame):\n",
    "    categorical = ['PULocationID', 'DOLocationID']\n",
    "    df[categorical] = df[categorical].astype(str)\n",
    "    df['PU_DO'] = df['PULocationID'] + '_' + df['DOLocationID']\n",
    "    categorical = ['PU_DO']\n",
    "    numerical = ['trip_distance']\n",
    "    dicts = df[categorical + numerical].to_dict(orient='records')\n",
    "    return dicts"
   ]
  },
  {
   "cell_type": "code",
   "execution_count": 5,
   "id": "6b5f0d80",
   "metadata": {},
   "outputs": [],
   "source": [
    "def apply_model(input_file: str, output_file: str, run_id: str) -> None:\n",
    "    df = read_dataframe(input_file)\n",
    "\n",
    "    dicts = prepare_dictionaries(df)\n",
    "    pipeline = download_pipeline(run_id)\n",
    "    y_pred = pipeline.predict(dicts)\n",
    "\n",
    "    df_result = pd.DataFrame()\n",
    "    df_result[['ride_id', 'lpep_pickup_datetime', 'PULocationID', 'DOLocationID']\n",
    "            ] = df[['ride_id', 'lpep_pickup_datetime', 'PULocationID', 'DOLocationID']]\n",
    "    df_result['actual_duration'] = df['duration']\n",
    "    df_result['predicted_duration'] = y_pred\n",
    "\n",
    "    df_result['diff'] = df_result['actual_duration'] - df_result['predicted_duration'] \n",
    "\n",
    "    df_result['model_version'] = run_id\n",
    "\n",
    "    Path(output_file).parent.mkdir(parents=True, exist_ok=True)\n",
    "    \n",
    "    df_result.to_parquet(output_file, index=False)"
   ]
  },
  {
   "cell_type": "code",
   "execution_count": 8,
   "id": "8b5950ac",
   "metadata": {},
   "outputs": [],
   "source": [
    "apply_model(input_file, output_file, RUN_ID)"
   ]
  },
  {
   "cell_type": "code",
   "execution_count": null,
   "id": "06d8a0ca",
   "metadata": {},
   "outputs": [],
   "source": []
  }
 ],
 "metadata": {
  "kernelspec": {
   "display_name": "Python 3 (ipykernel)",
   "language": "python",
   "name": "python3"
  },
  "language_info": {
   "codemirror_mode": {
    "name": "ipython",
    "version": 3
   },
   "file_extension": ".py",
   "mimetype": "text/x-python",
   "name": "python",
   "nbconvert_exporter": "python",
   "pygments_lexer": "ipython3",
   "version": "3.9.16"
  }
 },
 "nbformat": 4,
 "nbformat_minor": 5
}
