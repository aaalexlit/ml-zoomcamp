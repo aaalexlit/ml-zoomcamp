{
  "nbformat": 4,
  "nbformat_minor": 0,
  "metadata": {
    "colab": {
      "provenance": [],
      "authorship_tag": "ABX9TyPyE/AsLEyJdyXsQu7+S7/R",
      "include_colab_link": true
    },
    "kernelspec": {
      "name": "python3",
      "display_name": "Python 3"
    },
    "language_info": {
      "name": "python"
    }
  },
  "cells": [
    {
      "cell_type": "markdown",
      "metadata": {
        "id": "view-in-github",
        "colab_type": "text"
      },
      "source": [
        "<a href=\"https://colab.research.google.com/github/aaalexlit/ml-zoomcamp/blob/main/Run_mlflow_on_Colab.ipynb\" target=\"_parent\"><img src=\"https://colab.research.google.com/assets/colab-badge.svg\" alt=\"Open In Colab\"/></a>"
      ]
    },
    {
      "cell_type": "code",
      "source": [
        "%%capture\n",
        "!pip install mlflow\n",
        "!pip install pyngrok"
      ],
      "metadata": {
        "id": "nvWIdihF-piM"
      },
      "execution_count": null,
      "outputs": []
    },
    {
      "cell_type": "code",
      "execution_count": null,
      "metadata": {
        "id": "Wzvgjkqu-KTg"
      },
      "outputs": [],
      "source": [
        "import mlflow\n",
        "import subprocess\n",
        "from pyngrok import ngrok, conf\n",
        "import getpass"
      ]
    },
    {
      "cell_type": "code",
      "source": [
        "MLFLOW_TRACKING_URI = \"sqlite:///mlflow.db\"\n",
        "subprocess.Popen([\"mlflow\", \"ui\", \"--backend-store-uri\", MLFLOW_TRACKING_URI]) "
      ],
      "metadata": {
        "id": "7wdiGmnKCx1y"
      },
      "execution_count": null,
      "outputs": []
    },
    {
      "cell_type": "code",
      "source": [
        "mlflow.set_tracking_uri(MLFLOW_TRACKING_URI)\n",
        "# mlflow will create an experiment if it doesn't exist\n",
        "mlflow.set_experiment(\"duration-prediction-experiment\")"
      ],
      "metadata": {
        "id": "_YaZTNG1-gZb"
      },
      "execution_count": null,
      "outputs": []
    },
    {
      "cell_type": "code",
      "source": [
        "print(\"Enter your authtoken, which can be copied from https://dashboard.ngrok.com/auth\")\n",
        "conf.get_default().auth_token = getpass.getpass()\n",
        "port=5000\n",
        "public_url = ngrok.connect(port).public_url\n",
        "print(f' * ngrok tunnel \\\"{public_url}\\\" -> \\\"http://127.0.0.1:{port}\\\"')"
      ],
      "metadata": {
        "id": "nsBFQrEZDug7"
      },
      "execution_count": null,
      "outputs": []
    },
    {
      "cell_type": "code",
      "source": [
        "import pandas as pd\n",
        "import seaborn as sns\n",
        "from sklearn.feature_extraction import DictVectorizer\n",
        "from sklearn.linear_model import LinearRegression, Lasso, Ridge\n",
        "import matplotlib.pyplot as plt\n",
        "from sklearn.metrics import mean_squared_error"
      ],
      "metadata": {
        "id": "JU180is1Hybj"
      },
      "execution_count": null,
      "outputs": []
    },
    {
      "cell_type": "code",
      "source": [
        "!mkdir data\n",
        "!mkdir models"
      ],
      "metadata": {
        "id": "D6mVda0ZHxqE"
      },
      "execution_count": null,
      "outputs": []
    },
    {
      "cell_type": "code",
      "source": [
        "%%capture\n",
        "!wget -nc https://d37ci6vzurychx.cloudfront.net/trip-data/green_tripdata_2021-01.parquet -P data\n",
        "!wget -nc https://d37ci6vzurychx.cloudfront.net/trip-data/green_tripdata_2021-02.parquet -P data"
      ],
      "metadata": {
        "id": "ihV_RyZwHp9k"
      },
      "execution_count": null,
      "outputs": []
    },
    {
      "cell_type": "code",
      "source": [
        "def read_dataframe(filename):\n",
        "    df = pd.read_parquet(filename)\n",
        "    df['duration'] = df.lpep_dropoff_datetime - df.lpep_pickup_datetime\n",
        "    df.duration = df.duration.apply(lambda td: td.total_seconds() / 60)\n",
        "    df = df[(df.duration >=1) & (df.duration <= 60)]\n",
        "    categorical = ['PULocationID', 'DOLocationID']\n",
        "    df[categorical] = df[categorical].astype('str')\n",
        "    return df"
      ],
      "metadata": {
        "id": "Kqc3JpYEHo89"
      },
      "execution_count": null,
      "outputs": []
    },
    {
      "cell_type": "code",
      "source": [
        "df_train = read_dataframe('data/green_tripdata_2021-01.parquet')\n",
        "df_val = read_dataframe('data/green_tripdata_2021-02.parquet')"
      ],
      "metadata": {
        "id": "nj7TrY31Hm-9"
      },
      "execution_count": null,
      "outputs": []
    },
    {
      "cell_type": "code",
      "source": [
        "df_train['PU_DO'] = df_train['PULocationID'] + '_' + df_train['DOLocationID']\n",
        "df_val['PU_DO'] = df_val['PULocationID'] + '_' + df_val['DOLocationID']"
      ],
      "metadata": {
        "id": "jqjGjHHDHiaE"
      },
      "execution_count": null,
      "outputs": []
    },
    {
      "cell_type": "code",
      "source": [
        "categorical = ['PU_DO']\n",
        "numerical = ['trip_distance'] \n",
        "\n",
        "dv = DictVectorizer()\n",
        "\n",
        "train_dicts = df_train[categorical + numerical].to_dict(orient='records')\n",
        "X_train = dv.fit_transform(train_dicts)\n",
        "\n",
        "val_dicts = df_val[categorical + numerical].to_dict(orient='records')\n",
        "X_val = dv.transform(val_dicts)"
      ],
      "metadata": {
        "id": "ODY5xZoTHgjj"
      },
      "execution_count": null,
      "outputs": []
    },
    {
      "cell_type": "code",
      "source": [
        "target = 'duration'\n",
        "y_train = df_train[target].values\n",
        "y_val = df_val[target].values"
      ],
      "metadata": {
        "id": "Ji66xEe9Hb_c"
      },
      "execution_count": null,
      "outputs": []
    },
    {
      "cell_type": "code",
      "source": [
        "with mlflow.start_run():\n",
        "    mlflow.set_tag(\"developer\", \"alex\")\n",
        "\n",
        "    mlflow.log_param('train-data-path', 'data/green_tripdata_2021-01.parquet')\n",
        "    mlflow.log_param('valid-data-path', 'data/green_tripdata_2021-02.parquet')\n",
        "    alpha = 0.1\n",
        "    mlflow.log_param('alpha', alpha)\n",
        "    lr = Lasso(alpha=alpha)\n",
        "    lr.fit(X_train, y_train)\n",
        "    y_pred = lr.predict(X_val)\n",
        "    rmse = mean_squared_error(y_val, y_pred, squared=False)\n",
        "    mlflow.log_metric(\"rmse\", rmse)"
      ],
      "metadata": {
        "id": "5h0d4yRQFHB0"
      },
      "execution_count": null,
      "outputs": []
    }
  ]
}