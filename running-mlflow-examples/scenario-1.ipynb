{
 "cells": [
  {
   "attachments": {},
   "cell_type": "markdown",
   "metadata": {},
   "source": [
    "# Scenario 1: A single data scientist participating in an ML competition\n",
    "\n",
    "MLflow setup:\n",
    "\n",
    "Tracking server: no  \n",
    "Backend store: local filesystem  \n",
    "Artifacts store: local filesystem  \n",
    "The experiments can be explored locally by launching the MLflow UI.  "
   ]
  },
  {
   "cell_type": "code",
   "execution_count": 1,
   "metadata": {},
   "outputs": [],
   "source": [
    "import mlflow"
   ]
  },
  {
   "cell_type": "code",
   "execution_count": 2,
   "metadata": {},
   "outputs": [
    {
     "name": "stdout",
     "output_type": "stream",
     "text": [
      "tracking URI: 'file:///workspaces/codespaces-blank/running-mlflow-examples/mlruns'\n"
     ]
    }
   ],
   "source": [
    "print(f\"tracking URI: '{mlflow.get_tracking_uri()}'\")"
   ]
  },
  {
   "cell_type": "code",
   "execution_count": 3,
   "metadata": {},
   "outputs": [
    {
     "data": {
      "text/plain": [
       "[<Experiment: artifact_location='file:///workspaces/codespaces-blank/running-mlflow-examples/mlruns/0', creation_time=1685337969220, experiment_id='0', last_update_time=1685337969220, lifecycle_stage='active', name='Default', tags={}>]"
      ]
     },
     "execution_count": 3,
     "metadata": {},
     "output_type": "execute_result"
    }
   ],
   "source": [
    "mlflow.search_experiments()"
   ]
  },
  {
   "attachments": {},
   "cell_type": "markdown",
   "metadata": {},
   "source": [
    "### Creating an experiment and logging a new run"
   ]
  },
  {
   "cell_type": "code",
   "execution_count": 4,
   "metadata": {},
   "outputs": [
    {
     "name": "stderr",
     "output_type": "stream",
     "text": [
      "2023/05/29 05:30:01 INFO mlflow.tracking.fluent: Experiment with name 'my-experiment-1' does not exist. Creating a new experiment.\n"
     ]
    },
    {
     "name": "stdout",
     "output_type": "stream",
     "text": [
      "default artifacts URI: 'file:///workspaces/codespaces-blank/running-mlflow-examples/mlruns/919311050741103302/58b1d15cd62747c1b1f8b507b0d60fd6/artifacts'\n"
     ]
    },
    {
     "name": "stderr",
     "output_type": "stream",
     "text": [
      "/home/codespace/.local/lib/python3.9/site-packages/_distutils_hack/__init__.py:33: UserWarning: Setuptools is replacing distutils.\n",
      "  warnings.warn(\"Setuptools is replacing distutils.\")\n"
     ]
    }
   ],
   "source": [
    "from sklearn.linear_model import LogisticRegression\n",
    "from sklearn.datasets import load_iris\n",
    "from sklearn.metrics import accuracy_score\n",
    "\n",
    "mlflow.set_experiment(\"my-experiment-1\")\n",
    "\n",
    "with mlflow.start_run():\n",
    "\n",
    "    X, y = load_iris(return_X_y=True)\n",
    "\n",
    "    params = {\"C\": 0.1, \"random_state\": 42}\n",
    "    mlflow.log_params(params)\n",
    "\n",
    "    lr = LogisticRegression(**params).fit(X, y)\n",
    "    y_pred = lr.predict(X)\n",
    "    mlflow.log_metric(\"accuracy\", accuracy_score(y, y_pred))\n",
    "\n",
    "    mlflow.sklearn.log_model(lr, artifact_path=\"models\")\n",
    "    print(f\"default artifacts URI: '{mlflow.get_artifact_uri()}'\")"
   ]
  },
  {
   "cell_type": "code",
   "execution_count": 5,
   "metadata": {},
   "outputs": [
    {
     "data": {
      "text/plain": [
       "[<Experiment: artifact_location='file:///workspaces/codespaces-blank/running-mlflow-examples/mlruns/919311050741103302', creation_time=1685338201351, experiment_id='919311050741103302', last_update_time=1685338201351, lifecycle_stage='active', name='my-experiment-1', tags={}>,\n",
       " <Experiment: artifact_location='file:///workspaces/codespaces-blank/running-mlflow-examples/mlruns/0', creation_time=1685337969220, experiment_id='0', last_update_time=1685337969220, lifecycle_stage='active', name='Default', tags={}>]"
      ]
     },
     "execution_count": 5,
     "metadata": {},
     "output_type": "execute_result"
    }
   ],
   "source": [
    "mlflow.search_experiments()"
   ]
  },
  {
   "attachments": {},
   "cell_type": "markdown",
   "metadata": {},
   "source": [
    "### Interacting with the model registry"
   ]
  },
  {
   "cell_type": "code",
   "execution_count": 6,
   "metadata": {},
   "outputs": [],
   "source": [
    "\n",
    "from mlflow.tracking import MlflowClient\n",
    "\n",
    "\n",
    "client = MlflowClient()"
   ]
  },
  {
   "cell_type": "code",
   "execution_count": 8,
   "metadata": {},
   "outputs": [],
   "source": [
    "from mlflow.exceptions import MlflowException\n",
    "\n",
    "try:\n",
    "    client.search_registered_models()\n",
    "except MlflowException:\n",
    "    print(\"It's not possible to access the model registry :(\")"
   ]
  },
  {
   "cell_type": "code",
   "execution_count": 10,
   "metadata": {},
   "outputs": [
    {
     "data": {
      "text/plain": [
       "[]"
      ]
     },
     "execution_count": 10,
     "metadata": {},
     "output_type": "execute_result"
    }
   ],
   "source": [
    "client.search_registered_models()\n"
   ]
  },
  {
   "cell_type": "code",
   "execution_count": 11,
   "metadata": {},
   "outputs": [
    {
     "data": {
      "text/plain": [
       "'file:///workspaces/codespaces-blank/running-mlflow-examples/mlruns'"
      ]
     },
     "execution_count": 11,
     "metadata": {},
     "output_type": "execute_result"
    }
   ],
   "source": [
    "client.create_registered_model()"
   ]
  },
  {
   "cell_type": "code",
   "execution_count": 13,
   "metadata": {},
   "outputs": [
    {
     "data": {
      "text/plain": [
       "<Popen: returncode: None args: ['mlflow', 'ui']>"
      ]
     },
     "execution_count": 13,
     "metadata": {},
     "output_type": "execute_result"
    },
    {
     "name": "stderr",
     "output_type": "stream",
     "text": [
      "[2023-05-29 05:36:55 +0000] [30908] [INFO] Starting gunicorn 20.1.0\n",
      "[2023-05-29 05:36:55 +0000] [30908] [INFO] Listening at: http://127.0.0.1:5000 (30908)\n",
      "[2023-05-29 05:36:55 +0000] [30908] [INFO] Using worker: sync\n",
      "[2023-05-29 05:36:55 +0000] [30909] [INFO] Booting worker with pid: 30909\n",
      "[2023-05-29 05:36:55 +0000] [30910] [INFO] Booting worker with pid: 30910\n",
      "[2023-05-29 05:36:55 +0000] [30911] [INFO] Booting worker with pid: 30911\n",
      "[2023-05-29 05:36:55 +0000] [30912] [INFO] Booting worker with pid: 30912\n"
     ]
    }
   ],
   "source": [
    "import subprocess\n",
    "subprocess.Popen([\"mlflow\", \"ui\"])"
   ]
  },
  {
   "cell_type": "code",
   "execution_count": 14,
   "metadata": {},
   "outputs": [
    {
     "name": "stderr",
     "output_type": "stream",
     "text": [
      "Successfully registered model 'iris-model'.\n",
      "2023/05/29 05:38:07 INFO mlflow.tracking._model_registry.client: Waiting up to 300 seconds for model version to finish creation. Model name: iris-model, version 1\n",
      "Created version '1' of model 'iris-model'.\n"
     ]
    },
    {
     "data": {
      "text/plain": [
       "<ModelVersion: aliases=[], creation_timestamp=1685338687415, current_stage='None', description=None, last_updated_timestamp=1685338687415, name='iris-model', run_id='58b1d15cd62747c1b1f8b507b0d60fd6', run_link=None, source='file:///workspaces/codespaces-blank/running-mlflow-examples/mlruns/919311050741103302/58b1d15cd62747c1b1f8b507b0d60fd6/artifacts/model', status='READY', status_message=None, tags={}, user_id=None, version=1>"
      ]
     },
     "execution_count": 14,
     "metadata": {},
     "output_type": "execute_result"
    },
    {
     "name": "stderr",
     "output_type": "stream",
     "text": [
      "2023/05/29 05:40:48 ERROR mlflow.server: Exception on /model-versions/get-artifact [GET]\n",
      "Traceback (most recent call last):\n",
      "  File \"/opt/conda/envs/mlops/lib/python3.9/site-packages/flask/app.py\", line 2190, in wsgi_app\n",
      "    response = self.full_dispatch_request()\n",
      "  File \"/opt/conda/envs/mlops/lib/python3.9/site-packages/flask/app.py\", line 1486, in full_dispatch_request\n",
      "    rv = self.handle_user_exception(e)\n",
      "  File \"/opt/conda/envs/mlops/lib/python3.9/site-packages/flask/app.py\", line 1484, in full_dispatch_request\n",
      "    rv = self.dispatch_request()\n",
      "  File \"/opt/conda/envs/mlops/lib/python3.9/site-packages/flask/app.py\", line 1469, in dispatch_request\n",
      "    return self.ensure_sync(self.view_functions[rule.endpoint])(**view_args)\n",
      "  File \"/opt/conda/envs/mlops/lib/python3.9/site-packages/mlflow/server/__init__.py\", line 70, in serve_model_version_artifact\n",
      "    return get_model_version_artifact_handler()\n",
      "  File \"/opt/conda/envs/mlops/lib/python3.9/site-packages/mlflow/server/handlers.py\", line 475, in wrapper\n",
      "    return func(*args, **kwargs)\n",
      "  File \"/opt/conda/envs/mlops/lib/python3.9/site-packages/mlflow/server/handlers.py\", line 516, in wrapper\n",
      "    return func(*args, **kwargs)\n",
      "  File \"/opt/conda/envs/mlops/lib/python3.9/site-packages/mlflow/server/handlers.py\", line 1440, in get_model_version_artifact_handler\n",
      "    return _send_artifact(artifact_repo, artifact_path)\n",
      "  File \"/opt/conda/envs/mlops/lib/python3.9/site-packages/mlflow/server/handlers.py\", line 463, in _send_artifact\n",
      "    file_path = os.path.abspath(artifact_repository.download_artifacts(path))\n",
      "  File \"/opt/conda/envs/mlops/lib/python3.9/site-packages/mlflow/store/artifact/local_artifact_repo.py\", line 79, in download_artifacts\n",
      "    raise OSError(f\"No such file or directory: '{local_artifact_path}'\")\n",
      "OSError: No such file or directory: '/workspaces/codespaces-blank/running-mlflow-examples/mlruns/919311050741103302/58b1d15cd62747c1b1f8b507b0d60fd6/artifacts/model/MLmodel'\n"
     ]
    }
   ],
   "source": [
    "run_id = '58b1d15cd62747c1b1f8b507b0d60fd6'\n",
    "model_uri = f\"runs:/{run_id}/model\"\n",
    "mlflow.register_model(model_uri=model_uri, name='iris-model')"
   ]
  },
  {
   "cell_type": "code",
   "execution_count": null,
   "metadata": {},
   "outputs": [],
   "source": []
  }
 ],
 "metadata": {
  "kernelspec": {
   "display_name": "mlops",
   "language": "python",
   "name": "python3"
  },
  "language_info": {
   "codemirror_mode": {
    "name": "ipython",
    "version": 3
   },
   "file_extension": ".py",
   "mimetype": "text/x-python",
   "name": "python",
   "nbconvert_exporter": "python",
   "pygments_lexer": "ipython3",
   "version": "3.9.16"
  },
  "orig_nbformat": 4
 },
 "nbformat": 4,
 "nbformat_minor": 2
}
